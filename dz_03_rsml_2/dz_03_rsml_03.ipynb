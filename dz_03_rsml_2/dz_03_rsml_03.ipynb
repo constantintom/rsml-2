{
 "cells": [
  {
   "cell_type": "markdown",
   "id": "52852bee-5e50-40f7-b2c9-7c6b14da5fce",
   "metadata": {},
   "source": [
    "### Задание\n",
    "##### Преподаватель: Даниил Корбут, Наталья Баданина\n",
    "\n",
    "#### Что делать?\n",
    "\n",
    "   * Датасет ml-latest\n",
    "   * Вспомнить подходы, которые мы разбирали\n",
    "   * Выбрать понравившийся подход к гибридным системам\n",
    "   * Написать свою\n",
    "\n",
    "\n"
   ]
  },
  {
   "cell_type": "code",
   "execution_count": 1,
   "id": "dcdcb1f7-3804-4c3d-9574-9a9e1dc1791e",
   "metadata": {},
   "outputs": [],
   "source": [
    "from surprise import SVD, SVDpp\n",
    "from surprise import Dataset\n",
    "from surprise import accuracy\n",
    "from surprise import Reader\n",
    "from surprise.model_selection import train_test_split\n",
    "\n",
    "from tqdm.notebook import tqdm\n",
    "from sklearn.feature_extraction.text import TfidfVectorizer\n",
    "from sklearn.neighbors import NearestNeighbors\n",
    "\n",
    "import pandas as pd\n",
    "import numpy as np\n",
    "\n",
    "import warnings\n",
    "warnings.filterwarnings('ignore')"
   ]
  },
  {
   "cell_type": "code",
   "execution_count": 2,
   "id": "72c44697-cd6b-42ea-a539-b9468e057373",
   "metadata": {
    "tags": []
   },
   "outputs": [],
   "source": [
    "movies = pd.read_csv('D:/DATA_SCIENCE/DZ/rsml-2/movies.csv')\n",
    "ratings = pd.read_csv('D:/DATA_SCIENCE/DZ/rsml-2/ratings.csv')\n",
    "tags = pd.read_csv('D:/DATA_SCIENCE/DZ/rsml-2/tags.csv')"
   ]
  },
  {
   "cell_type": "markdown",
   "id": "c2946bc0-c01f-4afa-b4f0-73174335d234",
   "metadata": {},
   "source": [
    "##### Гибридная система на SVD и тегах для 610 пользователя"
   ]
  },
  {
   "cell_type": "code",
   "execution_count": 3,
   "id": "7c391097-aa07-4d4e-830e-10ce09fa5494",
   "metadata": {},
   "outputs": [
    {
     "data": {
      "text/html": [
       "<div>\n",
       "<style scoped>\n",
       "    .dataframe tbody tr th:only-of-type {\n",
       "        vertical-align: middle;\n",
       "    }\n",
       "\n",
       "    .dataframe tbody tr th {\n",
       "        vertical-align: top;\n",
       "    }\n",
       "\n",
       "    .dataframe thead th {\n",
       "        text-align: right;\n",
       "    }\n",
       "</style>\n",
       "<table border=\"1\" class=\"dataframe\">\n",
       "  <thead>\n",
       "    <tr style=\"text-align: right;\">\n",
       "      <th></th>\n",
       "      <th>movieId</th>\n",
       "      <th>title</th>\n",
       "      <th>userId</th>\n",
       "      <th>rating</th>\n",
       "      <th>timestamp</th>\n",
       "      <th>tag</th>\n",
       "    </tr>\n",
       "  </thead>\n",
       "  <tbody>\n",
       "    <tr>\n",
       "      <th>0</th>\n",
       "      <td>1</td>\n",
       "      <td>Toy Story (1995)</td>\n",
       "      <td>1.0</td>\n",
       "      <td>4.0</td>\n",
       "      <td>9.649827e+08</td>\n",
       "      <td>pixar</td>\n",
       "    </tr>\n",
       "    <tr>\n",
       "      <th>1</th>\n",
       "      <td>1</td>\n",
       "      <td>Toy Story (1995)</td>\n",
       "      <td>1.0</td>\n",
       "      <td>4.0</td>\n",
       "      <td>9.649827e+08</td>\n",
       "      <td>pixar</td>\n",
       "    </tr>\n",
       "    <tr>\n",
       "      <th>2</th>\n",
       "      <td>1</td>\n",
       "      <td>Toy Story (1995)</td>\n",
       "      <td>1.0</td>\n",
       "      <td>4.0</td>\n",
       "      <td>9.649827e+08</td>\n",
       "      <td>fun</td>\n",
       "    </tr>\n",
       "    <tr>\n",
       "      <th>3</th>\n",
       "      <td>1</td>\n",
       "      <td>Toy Story (1995)</td>\n",
       "      <td>5.0</td>\n",
       "      <td>4.0</td>\n",
       "      <td>8.474350e+08</td>\n",
       "      <td>pixar</td>\n",
       "    </tr>\n",
       "    <tr>\n",
       "      <th>4</th>\n",
       "      <td>1</td>\n",
       "      <td>Toy Story (1995)</td>\n",
       "      <td>5.0</td>\n",
       "      <td>4.0</td>\n",
       "      <td>8.474350e+08</td>\n",
       "      <td>pixar</td>\n",
       "    </tr>\n",
       "    <tr>\n",
       "      <th>...</th>\n",
       "      <td>...</td>\n",
       "      <td>...</td>\n",
       "      <td>...</td>\n",
       "      <td>...</td>\n",
       "      <td>...</td>\n",
       "      <td>...</td>\n",
       "    </tr>\n",
       "    <tr>\n",
       "      <th>285745</th>\n",
       "      <td>187595</td>\n",
       "      <td>Solo: A Star Wars Story (2018)</td>\n",
       "      <td>586.0</td>\n",
       "      <td>5.0</td>\n",
       "      <td>1.529900e+09</td>\n",
       "      <td>star wars</td>\n",
       "    </tr>\n",
       "    <tr>\n",
       "      <th>285770</th>\n",
       "      <td>193565</td>\n",
       "      <td>Gintama: The Movie (2010)</td>\n",
       "      <td>184.0</td>\n",
       "      <td>3.5</td>\n",
       "      <td>1.537099e+09</td>\n",
       "      <td>anime</td>\n",
       "    </tr>\n",
       "    <tr>\n",
       "      <th>285771</th>\n",
       "      <td>193565</td>\n",
       "      <td>Gintama: The Movie (2010)</td>\n",
       "      <td>184.0</td>\n",
       "      <td>3.5</td>\n",
       "      <td>1.537099e+09</td>\n",
       "      <td>comedy</td>\n",
       "    </tr>\n",
       "    <tr>\n",
       "      <th>285772</th>\n",
       "      <td>193565</td>\n",
       "      <td>Gintama: The Movie (2010)</td>\n",
       "      <td>184.0</td>\n",
       "      <td>3.5</td>\n",
       "      <td>1.537099e+09</td>\n",
       "      <td>gintama</td>\n",
       "    </tr>\n",
       "    <tr>\n",
       "      <th>285773</th>\n",
       "      <td>193565</td>\n",
       "      <td>Gintama: The Movie (2010)</td>\n",
       "      <td>184.0</td>\n",
       "      <td>3.5</td>\n",
       "      <td>1.537099e+09</td>\n",
       "      <td>remaster</td>\n",
       "    </tr>\n",
       "  </tbody>\n",
       "</table>\n",
       "<p>233213 rows × 6 columns</p>\n",
       "</div>"
      ],
      "text/plain": [
       "        movieId                           title  userId  rating     timestamp  \\\n",
       "0             1                Toy Story (1995)     1.0     4.0  9.649827e+08   \n",
       "1             1                Toy Story (1995)     1.0     4.0  9.649827e+08   \n",
       "2             1                Toy Story (1995)     1.0     4.0  9.649827e+08   \n",
       "3             1                Toy Story (1995)     5.0     4.0  8.474350e+08   \n",
       "4             1                Toy Story (1995)     5.0     4.0  8.474350e+08   \n",
       "...         ...                             ...     ...     ...           ...   \n",
       "285745   187595  Solo: A Star Wars Story (2018)   586.0     5.0  1.529900e+09   \n",
       "285770   193565       Gintama: The Movie (2010)   184.0     3.5  1.537099e+09   \n",
       "285771   193565       Gintama: The Movie (2010)   184.0     3.5  1.537099e+09   \n",
       "285772   193565       Gintama: The Movie (2010)   184.0     3.5  1.537099e+09   \n",
       "285773   193565       Gintama: The Movie (2010)   184.0     3.5  1.537099e+09   \n",
       "\n",
       "              tag  \n",
       "0           pixar  \n",
       "1           pixar  \n",
       "2             fun  \n",
       "3           pixar  \n",
       "4           pixar  \n",
       "...           ...  \n",
       "285745  star wars  \n",
       "285770      anime  \n",
       "285771     comedy  \n",
       "285772    gintama  \n",
       "285773   remaster  \n",
       "\n",
       "[233213 rows x 6 columns]"
      ]
     },
     "execution_count": 3,
     "metadata": {},
     "output_type": "execute_result"
    }
   ],
   "source": [
    "movies_with_ratings = movies.drop(['genres'], axis=1).join(ratings.set_index('movieId'), on='movieId').reset_index(drop=True)\n",
    "mov_tag = movies_with_ratings.join(tags.drop(['userId', 'timestamp'], axis=1).set_index('movieId'), on='movieId').reset_index(drop=True)\n",
    "mov_tag.dropna(inplace=True)\n",
    "mov_tag.tag = mov_tag.tag.fillna('other')\n",
    "mov_tag"
   ]
  },
  {
   "cell_type": "code",
   "execution_count": 4,
   "id": "97a82631-c96e-43f3-bce0-21fa08d64b75",
   "metadata": {},
   "outputs": [],
   "source": [
    "dataset = pd.DataFrame({\n",
    "    'uid': mov_tag.userId,\n",
    "    'iid': mov_tag.title,\n",
    "    'rating': mov_tag.rating\n",
    "})"
   ]
  },
  {
   "cell_type": "code",
   "execution_count": 5,
   "id": "77142914-6dc6-4620-bdd9-04c887bda063",
   "metadata": {},
   "outputs": [],
   "source": [
    "reader = Reader(rating_scale=(0.5, 5.0))\n",
    "data = Dataset.load_from_df(dataset, reader)"
   ]
  },
  {
   "cell_type": "code",
   "execution_count": 6,
   "id": "c1f3836c-c63c-402d-994e-a655968371a5",
   "metadata": {},
   "outputs": [],
   "source": [
    "trainset, testset = train_test_split(data, test_size=.15, random_state=42)"
   ]
  },
  {
   "cell_type": "code",
   "execution_count": 7,
   "id": "af1c0d8c-a54c-4418-8aa4-1210930a22b9",
   "metadata": {},
   "outputs": [
    {
     "name": "stdout",
     "output_type": "stream",
     "text": [
      "Wall time: 9.35 s\n"
     ]
    },
    {
     "data": {
      "text/plain": [
       "<surprise.prediction_algorithms.matrix_factorization.SVD at 0x25fc8bf6190>"
      ]
     },
     "execution_count": 7,
     "metadata": {},
     "output_type": "execute_result"
    }
   ],
   "source": [
    "%%time\n",
    "algo = SVD(n_factors=20, n_epochs=20)\n",
    "algo.fit(trainset)"
   ]
  },
  {
   "cell_type": "code",
   "execution_count": 8,
   "id": "81e7f58b-2e45-477c-a3fb-3260b05b3199",
   "metadata": {},
   "outputs": [],
   "source": [
    "test_pred = algo.test(testset)"
   ]
  },
  {
   "cell_type": "code",
   "execution_count": 9,
   "id": "ad81802e-8855-4cff-beda-674f855ae5d5",
   "metadata": {},
   "outputs": [
    {
     "name": "stdout",
     "output_type": "stream",
     "text": [
      "RMSE: 0.4686\n"
     ]
    },
    {
     "data": {
      "text/plain": [
       "0.46864680691492244"
      ]
     },
     "execution_count": 9,
     "metadata": {},
     "output_type": "execute_result"
    }
   ],
   "source": [
    "accuracy.rmse(test_pred, verbose=True)"
   ]
  },
  {
   "cell_type": "code",
   "execution_count": 10,
   "id": "b16dc322-b251-4baf-b5b6-d696103d3618",
   "metadata": {},
   "outputs": [
    {
     "data": {
      "text/plain": [
       "4.169278551880152"
      ]
     },
     "execution_count": 10,
     "metadata": {},
     "output_type": "execute_result"
    }
   ],
   "source": [
    "algo.predict(uid=610.0, iid='Mortal Kombat (1995)').est"
   ]
  },
  {
   "cell_type": "code",
   "execution_count": 11,
   "id": "96e75b9a-580a-45fc-af67-ee7fe82c6c85",
   "metadata": {},
   "outputs": [],
   "source": [
    "current_user_id = 610.0\n",
    "user_movies = mov_tag[mov_tag.userId == current_user_id].title.unique()\n",
    "scores = []\n",
    "titles = []\n",
    "\n",
    "for movie in mov_tag.title.unique():\n",
    "    if movie in user_movies:\n",
    "        continue\n",
    "        \n",
    "    scores.append(algo.predict(uid=current_user_id, iid=movie).est)\n",
    "    titles.append(movie)"
   ]
  },
  {
   "cell_type": "code",
   "execution_count": 12,
   "id": "ef1ded99-4430-43ee-b327-0cd7774f804d",
   "metadata": {},
   "outputs": [
    {
     "data": {
      "text/plain": [
       "[4.76051048271256,\n",
       " 4.764146581769927,\n",
       " 4.766677583082098,\n",
       " 4.772922147651449,\n",
       " 4.782544351770793,\n",
       " 4.810886735123502,\n",
       " 4.827559909841226,\n",
       " 4.906845654025222,\n",
       " 4.922311971930765,\n",
       " 5.0]"
      ]
     },
     "execution_count": 12,
     "metadata": {},
     "output_type": "execute_result"
    }
   ],
   "source": [
    "sorted(scores)[-10:]"
   ]
  },
  {
   "cell_type": "code",
   "execution_count": 13,
   "id": "1f917b5f-ceca-4975-8167-0cdfa7f69fcd",
   "metadata": {},
   "outputs": [],
   "source": [
    "dict_tag = []\n",
    "for g in mov_tag.tag.values:\n",
    "    dict_tag.append(g)\n",
    "dict_tag = set(dict_tag)\n"
   ]
  },
  {
   "cell_type": "code",
   "execution_count": 14,
   "id": "8e884655-ec72-4423-b832-84cb98d7532c",
   "metadata": {},
   "outputs": [
    {
     "data": {
      "text/plain": [
       "['netflix',\n",
       " 'queue',\n",
       " 'comedy',\n",
       " 'dark',\n",
       " 'atmospheric',\n",
       " 'ending',\n",
       " 'space',\n",
       " 'bad',\n",
       " 'funny',\n",
       " 'fi']"
      ]
     },
     "execution_count": 14,
     "metadata": {},
     "output_type": "execute_result"
    }
   ],
   "source": [
    "countVec = CountVectorizer(stop_words='english')\n",
    "#fit transform\n",
    "cv = countVec.fit_transform(tags.tag)\n",
    "#feature names\n",
    "cv_feature_names = countVec.get_feature_names()\n",
    "#feature counts\n",
    "feature_count = cv.toarray().sum(axis = 0)\n",
    "#feature name to count\n",
    "dict_tag = sorted(list(zip(cv_feature_names, feature_count)), key=lambda x: x[1], reverse=True)[:100]\n",
    "dict_tag = [x[0] for x in dict_tag]\n",
    "dict_tag[0:10]"
   ]
  },
  {
   "cell_type": "code",
   "execution_count": 15,
   "id": "6a1a2c2e-9517-40b7-82ce-e06b91302338",
   "metadata": {},
   "outputs": [],
   "source": [
    "vectorizer = TfidfVectorizer()\n",
    "X_train_tfidf = vectorizer.fit_transform(dict_tag)"
   ]
  },
  {
   "cell_type": "code",
   "execution_count": 16,
   "id": "c025aa1c-8801-4d76-80f0-58635b58e5d2",
   "metadata": {},
   "outputs": [
    {
     "data": {
      "text/plain": [
       "NearestNeighbors(metric='euclidean', n_jobs=-1, n_neighbors=20)"
      ]
     },
     "execution_count": 16,
     "metadata": {},
     "output_type": "execute_result"
    }
   ],
   "source": [
    "neigh = NearestNeighbors(n_neighbors=20, n_jobs=-1, metric='euclidean') \n",
    "neigh.fit(X_train_tfidf)"
   ]
  },
  {
   "cell_type": "code",
   "execution_count": 17,
   "id": "9fee0d44-6fad-4b89-83d5-601c6317740e",
   "metadata": {},
   "outputs": [],
   "source": [
    "test = ['netflix', 'comedy', 'dark']\n",
    "X_tfidf2 = vectorizer.transform([test][0])"
   ]
  },
  {
   "cell_type": "code",
   "execution_count": 18,
   "id": "15861b79-a827-4c8f-98fb-e4645b99e94d",
   "metadata": {},
   "outputs": [
    {
     "data": {
      "text/plain": [
       "(array([[0.        , 1.41421356, 1.41421356, 1.41421356, 1.41421356,\n",
       "         1.41421356, 1.41421356, 1.41421356, 1.41421356, 1.41421356,\n",
       "         1.41421356, 1.41421356, 1.41421356, 1.41421356, 1.41421356,\n",
       "         1.41421356, 1.41421356, 1.41421356, 1.41421356, 1.41421356],\n",
       "        [0.        , 1.41421356, 1.41421356, 1.41421356, 1.41421356,\n",
       "         1.41421356, 1.41421356, 1.41421356, 1.41421356, 1.41421356,\n",
       "         1.41421356, 1.41421356, 1.41421356, 1.41421356, 1.41421356,\n",
       "         1.41421356, 1.41421356, 1.41421356, 1.41421356, 1.41421356],\n",
       "        [0.        , 1.41421356, 1.41421356, 1.41421356, 1.41421356,\n",
       "         1.41421356, 1.41421356, 1.41421356, 1.41421356, 1.41421356,\n",
       "         1.41421356, 1.41421356, 1.41421356, 1.41421356, 1.41421356,\n",
       "         1.41421356, 1.41421356, 1.41421356, 1.41421356, 1.41421356]]),\n",
       " array([[ 0, 64, 55, 54, 53, 57, 56, 63, 62, 65, 66, 67, 68, 69, 70, 71,\n",
       "         72, 73, 76, 60],\n",
       "        [ 2, 64, 54, 53, 57, 56, 63, 75, 65, 66, 67, 68, 69, 70, 71, 72,\n",
       "         73, 62, 55, 77],\n",
       "        [ 3, 64, 54, 53, 57, 56, 63, 75, 65, 66, 67, 68, 69, 70, 71, 72,\n",
       "         73, 62, 55, 77]], dtype=int64))"
      ]
     },
     "execution_count": 18,
     "metadata": {},
     "output_type": "execute_result"
    }
   ],
   "source": [
    "res = neigh.kneighbors(X_tfidf2, return_distance=True)\n",
    "res"
   ]
  },
  {
   "cell_type": "code",
   "execution_count": 19,
   "id": "4a23a762-25e6-4039-8ae1-6aa7ce8e5ab5",
   "metadata": {},
   "outputs": [],
   "source": [
    "mov_tag.sort_values('timestamp', inplace=True)"
   ]
  },
  {
   "cell_type": "code",
   "execution_count": 20,
   "id": "c5edd83c-76be-46c1-961a-d55234992dd8",
   "metadata": {},
   "outputs": [
    {
     "data": {
      "application/vnd.jupyter.widget-view+json": {
       "model_id": "7c3db0e945aa48bc9201632fac4045a4",
       "version_major": 2,
       "version_minor": 0
      },
      "text/plain": [
       "0it [00:00, ?it/s]"
      ]
     },
     "metadata": {},
     "output_type": "display_data"
    }
   ],
   "source": [
    "title_tag = {}\n",
    "\n",
    "for index, row in tqdm(mov_tag.iterrows()):\n",
    "    title_tag[row.title] = row.tag"
   ]
  },
  {
   "cell_type": "code",
   "execution_count": 45,
   "id": "06aa05bd-1bd3-4181-82d4-227ccff0c5d3",
   "metadata": {},
   "outputs": [],
   "source": [
    "def recommend_for_user(user_id):\n",
    "    current_user_id = user_id\n",
    "    user_movies = mov_tag[mov_tag.userId == current_user_id].title.unique()\n",
    "    \n",
    "    last_user_movie = user_movies[-1]\n",
    "    \n",
    "    mov_tags = title_tag[last_user_movie]  \n",
    "\n",
    "    X_tfidf2 = vectorizer.transform([mov_tags])\n",
    "\n",
    "    res = neigh.kneighbors(X_tfidf2, return_distance=True)\n",
    "    \n",
    "    movies_to_score = movies.iloc[res[1][0]].title.values\n",
    "\n",
    "    scores = []\n",
    "    titles = []\n",
    "\n",
    "    for movie in movies_to_score:\n",
    "        if movie in user_movies:\n",
    "            continue\n",
    "\n",
    "        scores.append(algo.predict(uid=current_user_id, iid=movie).est)\n",
    "        titles.append(movie)\n",
    "        \n",
    "    \n",
    "    best_indexes = np.argsort(scores)[-10:]\n",
    "    for i in reversed(best_indexes):\n",
    "        print(titles[i], scores[i])"
   ]
  },
  {
   "cell_type": "code",
   "execution_count": 46,
   "id": "0273e259-32c5-43f2-aece-e888482a52fb",
   "metadata": {},
   "outputs": [
    {
     "name": "stdout",
     "output_type": "stream",
     "text": [
      "French Twist (Gazon maudit) (1995) 4.169278551880152\n",
      "Angels and Insects (1995) 4.169278551880152\n",
      "Eye for an Eye (1996) 4.169278551880152\n",
      "Indian in the Cupboard, The (1995) 4.169278551880152\n",
      "Two if by Sea (1996) 4.169278551880152\n",
      "Don't Be a Menace to South Central While Drinking Your Juice in the Hood (1996) 4.169278551880152\n",
      "Fair Game (1995) 4.169278551880152\n",
      "Once Upon a Time... When We Were Colored (1995) 4.169278551880152\n",
      "Misérables, Les (1995) 4.169278551880152\n",
      "Bed of Roses (1996) 4.169278551880152\n"
     ]
    }
   ],
   "source": [
    "recommend_for_user(610.0)"
   ]
  },
  {
   "cell_type": "code",
   "execution_count": 23,
   "id": "171ab047-478a-4ca0-9677-a646d3bd8eb6",
   "metadata": {},
   "outputs": [],
   "source": [
    "#### Сравним с рекомендациями при использовании биб-ки LightFM"
   ]
  },
  {
   "cell_type": "code",
   "execution_count": 24,
   "id": "7ebb710b-4807-4b0b-aa21-81ec7b293be9",
   "metadata": {},
   "outputs": [
    {
     "name": "stdout",
     "output_type": "stream",
     "text": [
      "Wall time: 0 ns\n"
     ]
    }
   ],
   "source": [
    "%time\n",
    "import numpy as np\n",
    "from lightfm.datasets import fetch_movielens\n",
    "movielens = fetch_movielens()"
   ]
  },
  {
   "cell_type": "code",
   "execution_count": 25,
   "id": "81b2fce9-f4ff-4585-9603-dfa6c73bf228",
   "metadata": {},
   "outputs": [
    {
     "name": "stdout",
     "output_type": "stream",
     "text": [
      "train <class 'scipy.sparse.coo.coo_matrix'> (943, 1682)\n",
      "test <class 'scipy.sparse.coo.coo_matrix'> (943, 1682)\n",
      "item_features <class 'scipy.sparse.csr.csr_matrix'> (1682, 1682)\n",
      "item_feature_labels <class 'numpy.ndarray'> (1682,)\n",
      "item_labels <class 'numpy.ndarray'> (1682,)\n"
     ]
    }
   ],
   "source": [
    "for key, value in movielens.items():\n",
    "    print(key, type(value), value.shape)"
   ]
  },
  {
   "cell_type": "code",
   "execution_count": 26,
   "id": "518c13db-483a-4272-b958-fe42f7320c11",
   "metadata": {},
   "outputs": [],
   "source": [
    "train = movielens['train']\n",
    "test = movielens['test']"
   ]
  },
  {
   "cell_type": "code",
   "execution_count": 27,
   "id": "1c8ca1b0-7aa2-4624-9c94-e25ba817c561",
   "metadata": {},
   "outputs": [
    {
     "name": "stdout",
     "output_type": "stream",
     "text": [
      "Precision: train 0.44, test 0.13.\n"
     ]
    }
   ],
   "source": [
    "from lightfm import LightFM\n",
    "from lightfm.evaluation import precision_at_k\n",
    "from lightfm.evaluation import auc_score\n",
    "\n",
    "model = LightFM()\n",
    "model.fit(train, epochs=10)\n",
    "\n",
    "train_precision = precision_at_k(model, train, k=10).mean()\n",
    "test_precision = precision_at_k(model, test, k=10, train_interactions=train).mean()\n",
    "\n",
    "print('Precision: train %.2f, test %.2f.' % (train_precision, test_precision))"
   ]
  },
  {
   "cell_type": "code",
   "execution_count": 28,
   "id": "2b548d0f-6066-4ede-ba2d-80634820228a",
   "metadata": {},
   "outputs": [],
   "source": [
    "def sample_recommendation(model, data, user_ids):\n",
    "    n_users, n_items = data['train'].shape\n",
    "    for user_id in user_ids:\n",
    "        known_positives = data['item_labels'][data['train'].tocsr()                                    \n",
    "                          [user_id].indices]\n",
    "        \n",
    "        scores = model.predict(user_id, np.arange(n_items))\n",
    "\n",
    "        top_items = data['item_labels'][np.argsort(-scores)]\n",
    "\n",
    "        print(\"User %s\" % user_id)\n",
    "#         print(\"     Known positives:\")\n",
    "        \n",
    "#         for x in known_positives[:10]:\n",
    "#             print(\"        %s\" % x)\n",
    "        \n",
    "        print(\"     Recommended:\")\n",
    "        \n",
    "        for x in top_items[:10]:\n",
    "            print(\"        %s\" % x)\n"
   ]
  },
  {
   "cell_type": "code",
   "execution_count": 49,
   "id": "a5d57778-0f77-4dc4-b19e-1385337bedaa",
   "metadata": {},
   "outputs": [
    {
     "name": "stdout",
     "output_type": "stream",
     "text": [
      "User 610\n",
      "     Recommended:\n",
      "        Star Wars (1977)\n",
      "        English Patient, The (1996)\n",
      "        Contact (1997)\n",
      "        Fargo (1996)\n",
      "        Liar Liar (1997)\n",
      "        Scream (1996)\n",
      "        Return of the Jedi (1983)\n",
      "        Air Force One (1997)\n",
      "        Toy Story (1995)\n",
      "        Independence Day (ID4) (1996)\n",
      "\n",
      "French Twist (Gazon maudit) (1995) 4.169278551880152\n",
      "Angels and Insects (1995) 4.169278551880152\n",
      "Eye for an Eye (1996) 4.169278551880152\n",
      "Indian in the Cupboard, The (1995) 4.169278551880152\n",
      "Two if by Sea (1996) 4.169278551880152\n",
      "Don't Be a Menace to South Central While Drinking Your Juice in the Hood (1996) 4.169278551880152\n",
      "Fair Game (1995) 4.169278551880152\n",
      "Once Upon a Time... When We Were Colored (1995) 4.169278551880152\n",
      "Misérables, Les (1995) 4.169278551880152\n",
      "Bed of Roses (1996) 4.169278551880152\n"
     ]
    }
   ],
   "source": [
    "sample_recommendation(model, movielens, [610])\n",
    "print()\n",
    "recommend_for_user(610.0)"
   ]
  }
 ],
 "metadata": {
  "kernelspec": {
   "display_name": "Python 3",
   "language": "python",
   "name": "python3"
  },
  "language_info": {
   "codemirror_mode": {
    "name": "ipython",
    "version": 3
   },
   "file_extension": ".py",
   "mimetype": "text/x-python",
   "name": "python",
   "nbconvert_exporter": "python",
   "pygments_lexer": "ipython3",
   "version": "3.8.3"
  }
 },
 "nbformat": 4,
 "nbformat_minor": 5
}
